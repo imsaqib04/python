{
 "cells": [
  {
   "cell_type": "markdown",
   "id": "96c61774",
   "metadata": {},
   "source": []
  },
  {
   "cell_type": "code",
   "execution_count": 7,
   "id": "3ad3877f",
   "metadata": {},
   "outputs": [
    {
     "name": "stdout",
     "output_type": "stream",
     "text": [
      "Letter: a\n",
      "Number:0\n",
      "Letter: b\n",
      "Number:1\n",
      "Letter: c\n",
      "Number:2\n",
      "Letter: d\n",
      "Number:3\n",
      "Letter: e\n",
      "Number:4\n",
      "10.072672128677368\n"
     ]
    }
   ],
   "source": [
    "### Multithreading\n",
    "## When to use Multi Threading\n",
    "###I/O-bound tasks: Tasks that spend more time waiting for I/O operations (e.g., file operations, network requests).\n",
    "###  Concurrent execution: When you want to improve the throughput of your application by performing multiple operations concurrently.\n",
    "\n",
    "import threading\n",
    "import time\n",
    "\n",
    "def print_numbers():\n",
    "    for i in range(5):\n",
    "        time.sleep(2)\n",
    "        print(f\"Number:{i}\")\n",
    "\n",
    "def print_letter():\n",
    "    for letter in \"abcde\":\n",
    "        time.sleep(2)\n",
    "        print(f\"Letter: {letter}\")\n",
    "\n",
    "##create 2 threads\n",
    "t1=threading.Thread(target=print_numbers)\n",
    "t2=threading.Thread(target=print_letter)\n",
    "\n",
    "t=time.time()\n",
    "## start the thread\n",
    "t1.start()\n",
    "t2.start()\n",
    "\n",
    "### Wait for the threads to complete\n",
    "t1.join()\n",
    "t2.join()\n",
    "\n",
    "finished_time=time.time()-t\n",
    "print(finished_time)"
   ]
  },
  {
   "cell_type": "code",
   "execution_count": 8,
   "id": "7490fbe3",
   "metadata": {},
   "outputs": [
    {
     "name": "stdout",
     "output_type": "stream",
     "text": [
      "0.16790246963500977\n"
     ]
    }
   ],
   "source": [
    "## PRocesses that run in parallel\n",
    "### CPU-Bound Tasks-Tasks that are heavy on CPU usage (e.g., mathematical computations, data processing).\n",
    "## PArallel execution- Multiple cores of the CPU\n",
    "\n",
    "import multiprocessing\n",
    "\n",
    "import time\n",
    "\n",
    "def square_numbers():\n",
    "    for i in range(5):\n",
    "        time.sleep(1)\n",
    "        print(f\"Square: {i*i}\")\n",
    "\n",
    "def cube_numbers():\n",
    "    for i in range(5):\n",
    "        time.sleep(1.5)\n",
    "        print(f\"Cube: {i * i * i}\")\n",
    "\n",
    "if __name__==\"__main__\":\n",
    "\n",
    "    ## create 2 processes\n",
    "    p1=multiprocessing.Process(target=square_numbers)\n",
    "    p2=multiprocessing.Process(target=cube_numbers)\n",
    "    t=time.time()\n",
    "\n",
    "    ## start the process\n",
    "    p1.start()\n",
    "    p2.start()\n",
    "\n",
    "    ## Wait for the process to complete\n",
    "    p1.join()\n",
    "    p2.join()\n",
    "\n",
    "    finished_time=time.time()-t\n",
    "    print(finished_time)"
   ]
  },
  {
   "cell_type": "code",
   "execution_count": null,
   "id": "7de63a22",
   "metadata": {},
   "outputs": [],
   "source": [
    "###  Multiprocessing with ProcessPoolExecutor\n",
    "\n",
    "from concurrent.futures import ProcessPoolExecutor\n",
    "import time\n",
    "\n",
    "def square_number(number):\n",
    "    time.sleep(2)\n",
    "    return f\"Square: {number * number}\"\n",
    "\n",
    "numbers=[1,2,3,4,5,6,7,8,9,11,2,3,12,14]\n",
    "if __name__==\"__main__\":\n",
    "\n",
    "    with ProcessPoolExecutor(max_workers=3) as executor:\n",
    "        results=executor.map(square_number,numbers)\n",
    "\n",
    "    for result in results:\n",
    "        print(result)"
   ]
  },
  {
   "cell_type": "code",
   "execution_count": null,
   "id": "4e4d786c",
   "metadata": {},
   "outputs": [
    {
     "name": "stdout",
     "output_type": "stream",
     "text": [
      "Number :1\n",
      "Number :2\n",
      "Number :3\n",
      "Number :4\n",
      "Number :5\n",
      "Number :6\n",
      "Number :7\n",
      "Number :8\n",
      "Number :9\n",
      "Number :0\n",
      "Number :1\n",
      "Number :2\n",
      "Number :3\n"
     ]
    }
   ],
   "source": [
    "### Multithreading With Thread Pool Executor\n",
    "\n",
    "from concurrent.futures import ThreadPoolExecutor\n",
    "import time\n",
    "\n",
    "def print_number(number):\n",
    "    time.sleep(1)\n",
    "    return f\"Number :{number}\"\n",
    "\n",
    "numbers=[1,2,3,4,5,6,7,8,9,0,1,2,3]\n",
    "\n",
    "with ThreadPoolExecutor(max_workers=3) as executor:\n",
    "    results=executor.map(print_number,numbers)\n",
    "\n",
    "for result in results:\n",
    "    print(result)"
   ]
  },
  {
   "cell_type": "code",
   "execution_count": null,
   "id": "8e043c29",
   "metadata": {},
   "outputs": [],
   "source": []
  }
 ],
 "metadata": {
  "kernelspec": {
   "display_name": "recommender-env",
   "language": "python",
   "name": "python3"
  },
  "language_info": {
   "codemirror_mode": {
    "name": "ipython",
    "version": 3
   },
   "file_extension": ".py",
   "mimetype": "text/x-python",
   "name": "python",
   "nbconvert_exporter": "python",
   "pygments_lexer": "ipython3",
   "version": "3.9.21"
  }
 },
 "nbformat": 4,
 "nbformat_minor": 5
}
