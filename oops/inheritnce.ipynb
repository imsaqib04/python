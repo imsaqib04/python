{
 "cells": [
  {
   "cell_type": "code",
   "execution_count": 71,
   "id": "bfd74499",
   "metadata": {},
   "outputs": [],
   "source": [
    "# inheritance"
   ]
  },
  {
   "cell_type": "code",
   "execution_count": 72,
   "id": "5b0120de",
   "metadata": {},
   "outputs": [],
   "source": [
    "### single level inheritance"
   ]
  },
  {
   "cell_type": "code",
   "execution_count": 73,
   "id": "a5e5d6f1",
   "metadata": {},
   "outputs": [],
   "source": [
    "class Animal :\n",
    "    def __init__(self,name,action):\n",
    "        self.name = name\n",
    "        self.action=action\n",
    "\n",
    "    def barking(self):\n",
    "        print(f\"{self.name} is {self.action}\")\n",
    "\n",
    "     "
   ]
  },
  {
   "cell_type": "code",
   "execution_count": 74,
   "id": "8cd6d92e",
   "metadata": {},
   "outputs": [
    {
     "name": "stdout",
     "output_type": "stream",
     "text": [
      "dog is barking\n"
     ]
    }
   ],
   "source": [
    "dog = Animal(\"dog\",\"barking\")\n",
    "dog.barking()\n"
   ]
  },
  {
   "cell_type": "code",
   "execution_count": 75,
   "id": "8602e307",
   "metadata": {},
   "outputs": [],
   "source": [
    "class Dog(Animal):\n",
    "    def __init__(self,eat):\n",
    "        super().__init__(\"dog\",\"barking\")\n",
    "        self.eat = eat\n",
    "\n",
    "    def eating(self):\n",
    "        print(f\"the {self.name} is eating the {self.eat}\")\n"
   ]
  },
  {
   "cell_type": "code",
   "execution_count": 76,
   "id": "089f9010",
   "metadata": {},
   "outputs": [
    {
     "name": "stdout",
     "output_type": "stream",
     "text": [
      "dog\n",
      "barking\n",
      "dog is barking\n",
      "the dog is eating the meat\n"
     ]
    }
   ],
   "source": [
    "dog1 = Dog(\"meat\")\n",
    "print(dog1.name)\n",
    "print(dog1.action)\n",
    "dog1.barking()\n",
    "dog1.eating()"
   ]
  },
  {
   "cell_type": "code",
   "execution_count": null,
   "id": "5c5d3ae5",
   "metadata": {},
   "outputs": [],
   "source": [
    "# multiple inheritance"
   ]
  },
  {
   "cell_type": "code",
   "execution_count": null,
   "id": "330cf92f",
   "metadata": {},
   "outputs": [],
   "source": [
    "class A:\n",
    "    def a():\n",
    "        print(\"class A\")\n"
   ]
  },
  {
   "cell_type": "code",
   "execution_count": 78,
   "id": "4b01c5d9",
   "metadata": {},
   "outputs": [],
   "source": [
    "class B:\n",
    "    def b():\n",
    "        print(\"class B\")"
   ]
  },
  {
   "cell_type": "code",
   "execution_count": 79,
   "id": "61f06a78",
   "metadata": {},
   "outputs": [],
   "source": [
    "class C(A,B):\n",
    "    def c():\n",
    "        print(\"class C\")"
   ]
  },
  {
   "cell_type": "code",
   "execution_count": 80,
   "id": "646c5f8b",
   "metadata": {},
   "outputs": [
    {
     "name": "stdout",
     "output_type": "stream",
     "text": [
      "class C\n",
      "class B\n",
      "class A\n"
     ]
    }
   ],
   "source": [
    "obj = C\n",
    "obj.c()\n",
    "obj.b()\n",
    "obj.a()"
   ]
  },
  {
   "cell_type": "code",
   "execution_count": 82,
   "id": "9c8ccf46",
   "metadata": {},
   "outputs": [],
   "source": [
    "### multilevel inheritance"
   ]
  },
  {
   "cell_type": "code",
   "execution_count": 85,
   "id": "5b1b40dd",
   "metadata": {},
   "outputs": [],
   "source": [
    "class A:\n",
    "    def a():\n",
    "        print(\"class A\")\n"
   ]
  },
  {
   "cell_type": "code",
   "execution_count": 86,
   "id": "94d899de",
   "metadata": {},
   "outputs": [],
   "source": [
    "class B(A):\n",
    "    def b():\n",
    "        print(\"class B\")"
   ]
  },
  {
   "cell_type": "code",
   "execution_count": 87,
   "id": "d276b670",
   "metadata": {},
   "outputs": [],
   "source": [
    "class C(B):\n",
    "    def c():\n",
    "        print(\"class C\")"
   ]
  },
  {
   "cell_type": "code",
   "execution_count": 90,
   "id": "8d31bfb4",
   "metadata": {},
   "outputs": [
    {
     "name": "stdout",
     "output_type": "stream",
     "text": [
      "class A\n",
      "class B\n",
      "class C\n",
      "class B\n",
      "class A\n"
     ]
    }
   ],
   "source": [
    "obj1 = C\n",
    "obj1.a()\n",
    "obj.b()\n",
    "obj.c()\n",
    "\n",
    "##\n",
    "\n",
    "obj2 = B\n",
    "obj2.b()\n",
    "# obj2.c()              ## shown error because of we create of object a and acees to c which is not possible\n",
    "obj2.a()"
   ]
  },
  {
   "cell_type": "code",
   "execution_count": null,
   "id": "d1182cc3",
   "metadata": {},
   "outputs": [],
   "source": []
  }
 ],
 "metadata": {
  "kernelspec": {
   "display_name": "myenv",
   "language": "python",
   "name": "python3"
  },
  "language_info": {
   "codemirror_mode": {
    "name": "ipython",
    "version": 3
   },
   "file_extension": ".py",
   "mimetype": "text/x-python",
   "name": "python",
   "nbconvert_exporter": "python",
   "pygments_lexer": "ipython3",
   "version": "3.11.11"
  }
 },
 "nbformat": 4,
 "nbformat_minor": 5
}
