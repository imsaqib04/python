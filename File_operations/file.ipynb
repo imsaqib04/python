{
 "cells": [
  {
   "cell_type": "code",
   "execution_count": 16,
   "id": "42dbc4ba",
   "metadata": {},
   "outputs": [
    {
     "name": "stdout",
     "output_type": "stream",
     "text": [
      "hello developer how are you?\n",
      "i am a developer what you think i am fine or not?\n"
     ]
    }
   ],
   "source": [
    "# read\n",
    "with open('example.txt','r') as File:\n",
    "    content=File.read()\n",
    "    print(content)"
   ]
  },
  {
   "cell_type": "code",
   "execution_count": 14,
   "id": "7cced957",
   "metadata": {},
   "outputs": [],
   "source": [
    "# write\n",
    "# this code overwrite our file with which i write here!\n",
    "# so batter code and way in below code\n",
    "with open ('example.txt','w') as File:\n",
    "    File.write(\"hello developer how are you?\")\n"
   ]
  },
  {
   "cell_type": "code",
   "execution_count": 15,
   "id": "148880e5",
   "metadata": {},
   "outputs": [],
   "source": [
    "# write\n",
    "# with no overwrite\n",
    "# append mode\n",
    "with open ('example.txt','a') as File:\n",
    "    File.write(\"\\ni am a developer what you think i am fine or not?\")"
   ]
  },
  {
   "cell_type": "code",
   "execution_count": 17,
   "id": "0212c1ed",
   "metadata": {},
   "outputs": [],
   "source": [
    "# binary\n",
    "\n",
    "data = b'\\x00\\x01\\x02\\x03\\x04'\n",
    "with open ('example.bin','wb') as File:\n",
    "    File.write(data)"
   ]
  },
  {
   "cell_type": "code",
   "execution_count": 20,
   "id": "bf046228",
   "metadata": {},
   "outputs": [
    {
     "name": "stdout",
     "output_type": "stream",
     "text": [
      "Directory 'package' created\n"
     ]
    }
   ],
   "source": [
    "import os\n",
    "\n",
    "# Create a new directory\n",
    "new_directory = \"package\"\n",
    "os.mkdir(new_directory)\n",
    "print(f\"Directory '{new_directory}' created\")\n"
   ]
  },
  {
   "cell_type": "code",
   "execution_count": 21,
   "id": "201b68c1",
   "metadata": {},
   "outputs": [
    {
     "name": "stdout",
     "output_type": "stream",
     "text": [
      "['example.bin', 'example.txt', 'exampleOutOfFile.txt', 'file.ipynb', 'package']\n"
     ]
    }
   ],
   "source": [
    "items = os.listdir('.')\n",
    "print(items)"
   ]
  },
  {
   "cell_type": "code",
   "execution_count": 24,
   "id": "03fa8879",
   "metadata": {},
   "outputs": [
    {
     "name": "stdout",
     "output_type": "stream",
     "text": [
      "Folder\\file.txt\n"
     ]
    }
   ],
   "source": [
    "dir_name = \"Folder\"\n",
    "file_name=\"file.txt\"\n",
    "full_path_name= os.path.join(dir_name,file_name)\n",
    "print(full_path_name)"
   ]
  },
  {
   "cell_type": "code",
   "execution_count": 25,
   "id": "9698256b",
   "metadata": {},
   "outputs": [
    {
     "name": "stdout",
     "output_type": "stream",
     "text": [
      "c:\\Users\\saqib\\OneDrive\\Desktop\\python\\File_operations\\Folder\\file.txt\n"
     ]
    }
   ],
   "source": [
    "import os\n",
    "\n",
    "dir_name = \"Folder\"\n",
    "file_name = \"file.txt\"\n",
    "full_path_name = os.path.join(os.getcwd(), dir_name, file_name)\n",
    "\n",
    "print(full_path_name)\n"
   ]
  },
  {
   "cell_type": "code",
   "execution_count": null,
   "id": "5982098d",
   "metadata": {},
   "outputs": [],
   "source": []
  }
 ],
 "metadata": {
  "kernelspec": {
   "display_name": "myenv",
   "language": "python",
   "name": "python3"
  },
  "language_info": {
   "codemirror_mode": {
    "name": "ipython",
    "version": 3
   },
   "file_extension": ".py",
   "mimetype": "text/x-python",
   "name": "python",
   "nbconvert_exporter": "python",
   "pygments_lexer": "ipython3",
   "version": "3.11.11"
  }
 },
 "nbformat": 4,
 "nbformat_minor": 5
}
