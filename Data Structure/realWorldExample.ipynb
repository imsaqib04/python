{
 "cells": [
  {
   "cell_type": "code",
   "execution_count": 1,
   "id": "76132de6",
   "metadata": {},
   "outputs": [],
   "source": [
    "# real world uses\n"
   ]
  },
  {
   "cell_type": "code",
   "execution_count": 5,
   "id": "e402008c",
   "metadata": {},
   "outputs": [],
   "source": [
    "# Create a TODO List To keep Track of TAsks"
   ]
  },
  {
   "cell_type": "code",
   "execution_count": null,
   "id": "4f3c93b4",
   "metadata": {},
   "outputs": [],
   "source": []
  },
  {
   "cell_type": "code",
   "execution_count": 6,
   "id": "4f5e1165",
   "metadata": {},
   "outputs": [
    {
     "name": "stdout",
     "output_type": "stream",
     "text": [
      "dont forget to pay the utility bills\n",
      "to do List remaining\n",
      "-buy Groceries\n",
      "-pay bills\n",
      "-schedule meeting\n",
      "-go for a run\n"
     ]
    }
   ],
   "source": [
    "to_do_list = [\"buy Groceries\",\"clean the house\",\"pay bills\"]\n",
    "\n",
    "# Adding to task\n",
    "\n",
    "to_do_list.append(\"schedule meeting\")\n",
    "to_do_list.append(\"go for a run\")\n",
    "\n",
    "# Removing a completed task\n",
    "\n",
    "to_do_list.remove(\"clean the house\")\n",
    "\n",
    "# checking is a task is in the list\n",
    "\n",
    "if \"pay bills\" in to_do_list:\n",
    "    print(\"dont forget to pay the utility bills\")\n",
    "    \n",
    "\n",
    "print(\"to do List remaining\")\n",
    "for task in to_do_list:\n",
    "    print(f\"-{task}\")\n",
    "\n",
    "\n"
   ]
  },
  {
   "cell_type": "code",
   "execution_count": null,
   "id": "418335ff",
   "metadata": {},
   "outputs": [],
   "source": []
  }
 ],
 "metadata": {
  "kernelspec": {
   "display_name": "myenv",
   "language": "python",
   "name": "python3"
  },
  "language_info": {
   "codemirror_mode": {
    "name": "ipython",
    "version": 3
   },
   "file_extension": ".py",
   "mimetype": "text/x-python",
   "name": "python",
   "nbconvert_exporter": "python",
   "pygments_lexer": "ipython3",
   "version": "3.11.11"
  }
 },
 "nbformat": 4,
 "nbformat_minor": 5
}
