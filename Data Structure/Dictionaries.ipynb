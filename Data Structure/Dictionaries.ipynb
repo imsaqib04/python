{
 "cells": [
  {
   "cell_type": "code",
   "execution_count": 1,
   "id": "21d656d9",
   "metadata": {},
   "outputs": [],
   "source": [
    "# Dictionaries\n",
    "\n"
   ]
  },
  {
   "cell_type": "code",
   "execution_count": 2,
   "id": "7167aa9b",
   "metadata": {},
   "outputs": [
    {
     "name": "stdout",
     "output_type": "stream",
     "text": [
      "{'name': 'Saqib', 'age': 21, 'CGPA': 8.0}\n"
     ]
    }
   ],
   "source": [
    "student = {\"name\":\"Saqib\",\"age\":21,\"CGPA\":8.0}\n",
    "print(student)"
   ]
  },
  {
   "cell_type": "code",
   "execution_count": 3,
   "id": "2c018e4c",
   "metadata": {},
   "outputs": [
    {
     "name": "stdout",
     "output_type": "stream",
     "text": [
      "<class 'dict'>\n"
     ]
    }
   ],
   "source": [
    "print (type(student))"
   ]
  },
  {
   "cell_type": "code",
   "execution_count": 7,
   "id": "dd3202b4",
   "metadata": {},
   "outputs": [
    {
     "name": "stdout",
     "output_type": "stream",
     "text": [
      "{'name': 8.0, 'age': 21}\n"
     ]
    }
   ],
   "source": [
    "# values are changed if key is same\n",
    "# no error, but not recom... because of value overwrite in same key\n",
    "student = {\"name\":\"Saqib\",\"age\":21,\"name\":8.0}\n",
    "print(student)"
   ]
  },
  {
   "cell_type": "code",
   "execution_count": 8,
   "id": "de586c19",
   "metadata": {},
   "outputs": [
    {
     "name": "stdout",
     "output_type": "stream",
     "text": [
      "{'name': 'Saqib', 'age': 21, 'CGPA': 8.0}\n"
     ]
    }
   ],
   "source": [
    "# Accessing dict....elements\n",
    "\n",
    "student = {\"name\":\"Saqib\",\"age\":21,\"CGPA\":8.0}\n",
    "print(student)"
   ]
  },
  {
   "cell_type": "code",
   "execution_count": 10,
   "id": "6131189d",
   "metadata": {},
   "outputs": [
    {
     "name": "stdout",
     "output_type": "stream",
     "text": [
      "8.0\n",
      "21\n",
      "8.0\n",
      "None\n",
      "not Available\n"
     ]
    }
   ],
   "source": [
    "print(student[\"CGPA\"])\n",
    "print(student['age'])\n",
    "\n",
    "## using method\n",
    "\n",
    "print(student.get('CGPA'))\n",
    "print(student.get('last_name'))\n",
    "print(student.get('last_name',\"not Available\"))"
   ]
  },
  {
   "cell_type": "code",
   "execution_count": 12,
   "id": "be36b3c0",
   "metadata": {},
   "outputs": [
    {
     "name": "stdout",
     "output_type": "stream",
     "text": [
      "{'name': 'Saqib', 'age': 19, 'CGPA': 8.0, 'adress': 'india'}\n",
      "{'name': 'Saqib', 'age': 19, 'CGPA': 8.0, 'adress': 'india'}\n"
     ]
    }
   ],
   "source": [
    "#update value for the key\n",
    "\n",
    "student[\"age\"]=19\n",
    "print(student)\n",
    "\n",
    "## added new key value \n",
    "student[\"adress\"]=\"india\"\n",
    "print(student)"
   ]
  },
  {
   "cell_type": "code",
   "execution_count": 14,
   "id": "ce3e8af9",
   "metadata": {},
   "outputs": [
    {
     "ename": "KeyError",
     "evalue": "'CGPA'",
     "output_type": "error",
     "traceback": [
      "\u001b[31m---------------------------------------------------------------------------\u001b[39m",
      "\u001b[31mKeyError\u001b[39m                                  Traceback (most recent call last)",
      "\u001b[36mCell\u001b[39m\u001b[36m \u001b[39m\u001b[32mIn[14]\u001b[39m\u001b[32m, line 2\u001b[39m\n\u001b[32m      1\u001b[39m \u001b[38;5;66;03m## delete key,value pair\u001b[39;00m\n\u001b[32m----> \u001b[39m\u001b[32m2\u001b[39m \u001b[38;5;28;01mdel\u001b[39;00m \u001b[43mstudent\u001b[49m\u001b[43m[\u001b[49m\u001b[33;43m'\u001b[39;49m\u001b[33;43mCGPA\u001b[39;49m\u001b[33;43m'\u001b[39;49m\u001b[43m]\u001b[49m\n\u001b[32m      3\u001b[39m \u001b[38;5;28mprint\u001b[39m(student)\n",
      "\u001b[31mKeyError\u001b[39m: 'CGPA'"
     ]
    }
   ],
   "source": [
    "## delete key,value pair\n",
    "del student['CGPA']\n",
    "print(student)"
   ]
  },
  {
   "cell_type": "code",
   "execution_count": 15,
   "id": "ce6b222f",
   "metadata": {},
   "outputs": [
    {
     "name": "stdout",
     "output_type": "stream",
     "text": [
      "dict_keys(['name', 'age', 'adress'])\n",
      "dict_values(['Saqib', 19, 'india'])\n",
      "dict_items([('name', 'Saqib'), ('age', 19), ('adress', 'india')])\n"
     ]
    }
   ],
   "source": [
    "## Dictionary methods\n",
    "\n",
    "keys = student.keys()       ## get all the keys\n",
    "print(keys)\n",
    "\n",
    "values = student.values()   ## get all values\n",
    "print(values)\n",
    "\n",
    "items = student.items()     ## get all key value pairs\n",
    "print(items)"
   ]
  },
  {
   "cell_type": "code",
   "execution_count": null,
   "id": "2614e8b0",
   "metadata": {},
   "outputs": [
    {
     "name": "stdout",
     "output_type": "stream",
     "text": [
      "{'name': 'Saqib', 'age': 19, 'adress': 'india'}\n",
      "{'name': 'Saqib', 'age': 19, 'adress': 'india'}\n"
     ]
    }
   ],
   "source": [
    "## Shallow copy\n",
    "\n",
    "student_copy = student\n",
    "print(student)\n",
    "print(student_copy)\n",
    "\n"
   ]
  },
  {
   "cell_type": "code",
   "execution_count": null,
   "id": "95e66026",
   "metadata": {},
   "outputs": [
    {
     "name": "stdout",
     "output_type": "stream",
     "text": [
      "{'name': 'Ansari', 'age': 19, 'adress': 'india'}\n",
      "{'name': 'Ansari', 'age': 19, 'adress': 'india'}\n"
     ]
    }
   ],
   "source": [
    "## here is something issu why is not working lets solve below\n",
    "\n",
    "student[\"name\"]=\"Ansari\"\n",
    "print(student)\n",
    "print(student_copy)"
   ]
  },
  {
   "cell_type": "code",
   "execution_count": 18,
   "id": "fcebb429",
   "metadata": {},
   "outputs": [
    {
     "name": "stdout",
     "output_type": "stream",
     "text": [
      "{'name': 'Ansari', 'age': 19, 'adress': 'india'}\n",
      "{'name': 'Ansari', 'age': 19, 'adress': 'india'}\n"
     ]
    }
   ],
   "source": [
    "## Shalow copy\n",
    "\n",
    "student_copy1 = student.copy()\n",
    "print(student_copy1)\n",
    "print(student)"
   ]
  },
  {
   "cell_type": "code",
   "execution_count": 20,
   "id": "ed0d29e0",
   "metadata": {},
   "outputs": [
    {
     "name": "stdout",
     "output_type": "stream",
     "text": [
      "{'name': 'Ansari', 'age': 19, 'adress': 'india'}\n",
      "{'name': 'Mohammad', 'age': 19, 'adress': 'india'}\n"
     ]
    }
   ],
   "source": [
    "student[\"name\"]=\"Mohammad\"\n",
    "print(student_copy1)\n",
    "print(student)"
   ]
  },
  {
   "cell_type": "code",
   "execution_count": 21,
   "id": "1c31e935",
   "metadata": {},
   "outputs": [
    {
     "name": "stdout",
     "output_type": "stream",
     "text": [
      "name\n",
      "age\n",
      "adress\n"
     ]
    }
   ],
   "source": [
    "## Iterating over Dictionaries\n",
    "\n",
    "for keys in student.keys():\n",
    "    print(keys)"
   ]
  },
  {
   "cell_type": "code",
   "execution_count": 22,
   "id": "08df64ad",
   "metadata": {},
   "outputs": [
    {
     "name": "stdout",
     "output_type": "stream",
     "text": [
      "Mohammad\n",
      "19\n",
      "india\n"
     ]
    }
   ],
   "source": [
    "for values in student.values():\n",
    "    print(values)"
   ]
  },
  {
   "cell_type": "code",
   "execution_count": 24,
   "id": "76b722b5",
   "metadata": {},
   "outputs": [
    {
     "name": "stdout",
     "output_type": "stream",
     "text": [
      "name:Mohammad\n",
      "age:19\n",
      "adress:india\n"
     ]
    }
   ],
   "source": [
    "for key,value in student.items():\n",
    "    print(f\"{key}:{value}\")"
   ]
  },
  {
   "cell_type": "code",
   "execution_count": 25,
   "id": "d491c3b5",
   "metadata": {},
   "outputs": [
    {
     "name": "stdout",
     "output_type": "stream",
     "text": [
      "{'student1': {'name': 'spiderMan', 'age': 40}, 'student2': {'name': 'superMan', 'age': 45}}\n"
     ]
    }
   ],
   "source": [
    "# nested Disctionary\n",
    "\n",
    "students = {\n",
    "    \"student1\" : {\"name\":\"spiderMan\",\"age\":40},\n",
    "    \"student2\" : {\"name\":\"superMan\",\"age\":45}\n",
    "}\n",
    "print(students)\n"
   ]
  },
  {
   "cell_type": "code",
   "execution_count": 28,
   "id": "782e33bc",
   "metadata": {},
   "outputs": [
    {
     "name": "stdout",
     "output_type": "stream",
     "text": [
      "superMan\n",
      "45\n"
     ]
    }
   ],
   "source": [
    "# Access nested dic.. elements\n",
    "\n",
    "print(students[\"student2\"][\"name\"])\n",
    "print(students[\"student2\"][\"age\"])"
   ]
  },
  {
   "cell_type": "code",
   "execution_count": 30,
   "id": "1d2a3c5e",
   "metadata": {},
   "outputs": [
    {
     "name": "stdout",
     "output_type": "stream",
     "text": [
      "student1:{'name': 'spiderMan', 'age': 40}\n",
      "name:spiderMan\n",
      "age:40\n",
      "student2:{'name': 'superMan', 'age': 45}\n",
      "name:superMan\n",
      "age:45\n"
     ]
    }
   ],
   "source": [
    "# iterating over nested dict..\n",
    "\n",
    "for student_id,student_info in students.items():\n",
    "    print(f\"{student_id}:{student_info}\")\n",
    "    for key,value in student_info.items():\n",
    "        print(f\"{key}:{value}\")"
   ]
  },
  {
   "cell_type": "code",
   "execution_count": 31,
   "id": "15c11488",
   "metadata": {},
   "outputs": [
    {
     "name": "stdout",
     "output_type": "stream",
     "text": [
      "{0: 0, 1: 1, 2: 4, 3: 9, 4: 16}\n"
     ]
    }
   ],
   "source": [
    "# dictionary comphrehension\n",
    "\n",
    "square = {x:x**2 for x in range(5)}\n",
    "print(square)"
   ]
  },
  {
   "cell_type": "code",
   "execution_count": 32,
   "id": "a05d88bd",
   "metadata": {},
   "outputs": [
    {
     "name": "stdout",
     "output_type": "stream",
     "text": [
      "{0: 0, 2: 4, 4: 16, 6: 36, 8: 64}\n"
     ]
    }
   ],
   "source": [
    "# condition dict.. comphrehension\n",
    "\n",
    "evens = {x:x**2 for x in  range(10) if x%2==0}\n",
    "print(evens)"
   ]
  },
  {
   "cell_type": "code",
   "execution_count": 34,
   "id": "1f3edbc2",
   "metadata": {},
   "outputs": [
    {
     "name": "stdout",
     "output_type": "stream",
     "text": [
      "{1: 1, 2: 2, 3: 3, 4: 4}\n"
     ]
    }
   ],
   "source": [
    "numbers = [1,2,2,3,3,3,4,4,4,4]\n",
    "freq = {}\n",
    "\n",
    "for number in numbers:\n",
    "    if number in freq:\n",
    "        freq[number]+=1\n",
    "    else:\n",
    "        freq[number]=1\n",
    "print(freq)"
   ]
  },
  {
   "cell_type": "code",
   "execution_count": 36,
   "id": "f40e662d",
   "metadata": {},
   "outputs": [
    {
     "name": "stdout",
     "output_type": "stream",
     "text": [
      "{'a': 1, 'b': 3, 'c': 4}\n"
     ]
    }
   ],
   "source": [
    "# merge two dic\n",
    "\n",
    "dict1 = {\"a\":1,\"b\":2}\n",
    "dict2 = {\"b\":3,\"c\":4}\n",
    "\n",
    "merge_dict = {**dict1,**dict2}\n",
    "print(merge_dict)\n"
   ]
  },
  {
   "cell_type": "code",
   "execution_count": null,
   "id": "bbedbec6",
   "metadata": {},
   "outputs": [],
   "source": []
  }
 ],
 "metadata": {
  "kernelspec": {
   "display_name": "myenv",
   "language": "python",
   "name": "python3"
  },
  "language_info": {
   "codemirror_mode": {
    "name": "ipython",
    "version": 3
   },
   "file_extension": ".py",
   "mimetype": "text/x-python",
   "name": "python",
   "nbconvert_exporter": "python",
   "pygments_lexer": "ipython3",
   "version": "3.11.11"
  }
 },
 "nbformat": 4,
 "nbformat_minor": 5
}
