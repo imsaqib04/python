{
 "cells": [
  {
   "cell_type": "code",
   "execution_count": 35,
   "id": "18c1990d",
   "metadata": {},
   "outputs": [],
   "source": [
    "# tuple\n",
    "\n"
   ]
  },
  {
   "cell_type": "code",
   "execution_count": 36,
   "id": "f8ab18e9",
   "metadata": {},
   "outputs": [
    {
     "name": "stdout",
     "output_type": "stream",
     "text": [
      "()\n",
      "<class 'tuple'>\n"
     ]
    }
   ],
   "source": [
    "empty_tuple=()\n",
    "print(empty_tuple)\n",
    "print(type(empty_tuple))"
   ]
  },
  {
   "cell_type": "code",
   "execution_count": 37,
   "id": "abdb1fdb",
   "metadata": {},
   "outputs": [],
   "source": [
    "numbers = (1,2,3,4,5,6)"
   ]
  },
  {
   "cell_type": "code",
   "execution_count": 38,
   "id": "ec9fe25d",
   "metadata": {},
   "outputs": [
    {
     "name": "stdout",
     "output_type": "stream",
     "text": [
      "(1, 2, 3, 4, 5, 6)\n"
     ]
    }
   ],
   "source": [
    "print(numbers)"
   ]
  },
  {
   "cell_type": "code",
   "execution_count": 39,
   "id": "a11d42a6",
   "metadata": {},
   "outputs": [
    {
     "name": "stdout",
     "output_type": "stream",
     "text": [
      "('HEllo', 'Saqib', 3.14, 'A')\n"
     ]
    }
   ],
   "source": [
    "mixed_tuple = (\"HEllo\",\"Saqib\",3.14,'A')\n",
    "print(mixed_tuple)"
   ]
  },
  {
   "cell_type": "code",
   "execution_count": 40,
   "id": "72b427f4",
   "metadata": {},
   "outputs": [
    {
     "name": "stdout",
     "output_type": "stream",
     "text": [
      "(1, 2, 3, 4, 5, 6, 'HEllo', 'Saqib', 3.14, 'A')\n"
     ]
    }
   ],
   "source": [
    "concat = numbers+mixed_tuple\n",
    "print(concat)"
   ]
  },
  {
   "cell_type": "code",
   "execution_count": 41,
   "id": "10215265",
   "metadata": {},
   "outputs": [
    {
     "data": {
      "text/plain": [
       "('HEllo',\n",
       " 'Saqib',\n",
       " 3.14,\n",
       " 'A',\n",
       " 'HEllo',\n",
       " 'Saqib',\n",
       " 3.14,\n",
       " 'A',\n",
       " 'HEllo',\n",
       " 'Saqib',\n",
       " 3.14,\n",
       " 'A')"
      ]
     },
     "execution_count": 41,
     "metadata": {},
     "output_type": "execute_result"
    }
   ],
   "source": [
    "mixed_tuple *3"
   ]
  },
  {
   "cell_type": "code",
   "execution_count": 42,
   "id": "d80ea1c1",
   "metadata": {},
   "outputs": [
    {
     "ename": "TypeError",
     "evalue": "'tuple' object does not support item assignment",
     "output_type": "error",
     "traceback": [
      "\u001b[31m---------------------------------------------------------------------------\u001b[39m",
      "\u001b[31mTypeError\u001b[39m                                 Traceback (most recent call last)",
      "\u001b[36mCell\u001b[39m\u001b[36m \u001b[39m\u001b[32mIn[42]\u001b[39m\u001b[32m, line 3\u001b[39m\n\u001b[32m      1\u001b[39m \u001b[38;5;66;03m# immutable nature of tuple\u001b[39;00m\n\u001b[32m----> \u001b[39m\u001b[32m3\u001b[39m \u001b[43mnumbers\u001b[49m\u001b[43m[\u001b[49m\u001b[32;43m1\u001b[39;49m\u001b[43m]\u001b[49m = \u001b[33m\"\u001b[39m\u001b[33mabcd\u001b[39m\u001b[33m\"\u001b[39m\n",
      "\u001b[31mTypeError\u001b[39m: 'tuple' object does not support item assignment"
     ]
    }
   ],
   "source": [
    "# immutable nature of tuple\n",
    "\n",
    "numbers[1] = \"abcd\""
   ]
  },
  {
   "cell_type": "code",
   "execution_count": null,
   "id": "a2046e00",
   "metadata": {},
   "outputs": [
    {
     "name": "stdout",
     "output_type": "stream",
     "text": [
      "1\n",
      "2\n"
     ]
    }
   ],
   "source": [
    "## tuple methods\n",
    "\n",
    "print(numbers.count(1))\n",
    "print(numbers.index(3))"
   ]
  },
  {
   "cell_type": "code",
   "execution_count": null,
   "id": "5f3b3df0",
   "metadata": {},
   "outputs": [
    {
     "name": "stdout",
     "output_type": "stream",
     "text": [
      "(1, 'hello', 3.14)\n"
     ]
    }
   ],
   "source": [
    "#packing and unpacking tuple\n"
   ]
  },
  {
   "cell_type": "code",
   "execution_count": null,
   "id": "c81a5bd4",
   "metadata": {},
   "outputs": [],
   "source": [
    "#packing\n",
    "\n",
    "packed_tuple=1,\"hello\",3.14\n",
    "print(packed_tuple)\n",
    "\n",
    "\n"
   ]
  },
  {
   "cell_type": "code",
   "execution_count": null,
   "id": "677ef5d1",
   "metadata": {},
   "outputs": [
    {
     "name": "stdout",
     "output_type": "stream",
     "text": [
      "1\n",
      "hello\n",
      "3.14\n"
     ]
    }
   ],
   "source": [
    "#unpacking \n",
    "a,b,c=packed_tuple\n",
    "\n",
    "print(a)\n",
    "print(b)\n",
    "print(c)"
   ]
  },
  {
   "cell_type": "code",
   "execution_count": null,
   "id": "87714fc5",
   "metadata": {},
   "outputs": [
    {
     "name": "stdout",
     "output_type": "stream",
     "text": [
      "1\n",
      "[2, 3, 4, 5]\n",
      "6\n"
     ]
    }
   ],
   "source": [
    "#unpacking with * \n",
    "\n",
    "numbers=(1,2,3,4,5,6)\n",
    "first,*middle,last=numbers\n",
    "print(first)\n",
    "print(middle)\n",
    "print(last)"
   ]
  },
  {
   "cell_type": "code",
   "execution_count": 43,
   "id": "7f05b922",
   "metadata": {},
   "outputs": [
    {
     "data": {
      "text/plain": [
       "[1, 2, 3]"
      ]
     },
     "execution_count": 43,
     "metadata": {},
     "output_type": "execute_result"
    }
   ],
   "source": [
    "# nested list \n",
    "\n",
    "lst = [[1,2,3,4],[6,7,8,9],[1,\"hello\",3.14,\"c\"]]\n",
    "lst[0][0:3]"
   ]
  },
  {
   "cell_type": "code",
   "execution_count": 46,
   "id": "ec015084",
   "metadata": {},
   "outputs": [
    {
     "name": "stdout",
     "output_type": "stream",
     "text": [
      "(1, 2, 3, 4)\n",
      "8\n",
      "hello\n"
     ]
    }
   ],
   "source": [
    "# nested tuple\n",
    "\n",
    "tuple = ((1,2,3,4),(6,7,8,9),(1,\"hello\",3.14,\"c\"))\n",
    "print(tuple[0])\n",
    "print(tuple[1][2])\n",
    "print(tuple[2][1])\n",
    "\n"
   ]
  },
  {
   "cell_type": "code",
   "execution_count": 51,
   "id": "36b41462",
   "metadata": {},
   "outputs": [
    {
     "name": "stdout",
     "output_type": "stream",
     "text": [
      "1 2 3 4 \n",
      "6 7 8 9 \n",
      "1 hello 3.14 c \n"
     ]
    }
   ],
   "source": [
    "for i in tuple:\n",
    "    for item in i:\n",
    "        print(item,end =\" \")\n",
    "    print()"
   ]
  },
  {
   "cell_type": "code",
   "execution_count": null,
   "id": "f07ed366",
   "metadata": {},
   "outputs": [],
   "source": []
  }
 ],
 "metadata": {
  "kernelspec": {
   "display_name": "myenv",
   "language": "python",
   "name": "python3"
  },
  "language_info": {
   "codemirror_mode": {
    "name": "ipython",
    "version": 3
   },
   "file_extension": ".py",
   "mimetype": "text/x-python",
   "name": "python",
   "nbconvert_exporter": "python",
   "pygments_lexer": "ipython3",
   "version": "3.11.11"
  }
 },
 "nbformat": 4,
 "nbformat_minor": 5
}
