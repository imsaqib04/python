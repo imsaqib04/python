{
 "cells": [
  {
   "cell_type": "code",
   "execution_count": null,
   "id": "74e133ef",
   "metadata": {},
   "outputs": [],
   "source": [
    "# function with parameter\n",
    "def greet(name):\n",
    "    print(f\"Hello {name} welcome to the world\")\n"
   ]
  },
  {
   "cell_type": "code",
   "execution_count": 4,
   "id": "7ff74ea6",
   "metadata": {},
   "outputs": [
    {
     "name": "stdout",
     "output_type": "stream",
     "text": [
      "Hello saqib welcome to the world\n"
     ]
    }
   ],
   "source": [
    "greet(\"saqib\")"
   ]
  },
  {
   "cell_type": "code",
   "execution_count": null,
   "id": "6208a4bb",
   "metadata": {},
   "outputs": [],
   "source": [
    "#  default parameter\n",
    "def greet(name=\"guest\"):\n",
    "    print(f\"Hello {name} welcome to the world\")\n"
   ]
  },
  {
   "cell_type": "code",
   "execution_count": 6,
   "id": "ce09db5b",
   "metadata": {},
   "outputs": [
    {
     "name": "stdout",
     "output_type": "stream",
     "text": [
      "Hello guest welcome to the world\n"
     ]
    }
   ],
   "source": [
    "greet()"
   ]
  },
  {
   "cell_type": "code",
   "execution_count": 14,
   "id": "d36e781a",
   "metadata": {},
   "outputs": [],
   "source": [
    "# function with multiple arguments\n",
    "# positional arguments\n",
    "\n",
    "def print_numbers(*args):\n",
    "    for number in args:\n",
    "        print(number)"
   ]
  },
  {
   "cell_type": "code",
   "execution_count": 15,
   "id": "7eb943df",
   "metadata": {},
   "outputs": [
    {
     "name": "stdout",
     "output_type": "stream",
     "text": [
      "1\n",
      "2\n",
      "3\n",
      "4\n",
      "5\n",
      "john\n",
      "wick\n"
     ]
    }
   ],
   "source": [
    "print_numbers(1,2,3,4,5,\"john\",\"wick\")"
   ]
  },
  {
   "cell_type": "code",
   "execution_count": 16,
   "id": "5b3604ae",
   "metadata": {},
   "outputs": [],
   "source": [
    "## keyword Arguments\n",
    "\n",
    "def print_details(**kwargs):\n",
    "    for key,value in kwargs.items():\n",
    "        print(f\"{key}:{value}\")"
   ]
  },
  {
   "cell_type": "code",
   "execution_count": 17,
   "id": "bf4b90fd",
   "metadata": {},
   "outputs": [
    {
     "name": "stdout",
     "output_type": "stream",
     "text": [
      "name:saqib\n",
      "age:20\n",
      "country:India\n"
     ]
    }
   ],
   "source": [
    "print_details(name = \"saqib\",age=20,country=\"India\")"
   ]
  },
  {
   "cell_type": "code",
   "execution_count": 18,
   "id": "7a1e7bad",
   "metadata": {},
   "outputs": [],
   "source": [
    "### return multiple statments\n",
    "\n",
    "def multiply(a,b):\n",
    "    return a*b,b"
   ]
  },
  {
   "cell_type": "code",
   "execution_count": 19,
   "id": "260048af",
   "metadata": {},
   "outputs": [
    {
     "data": {
      "text/plain": [
       "(6, 2)"
      ]
     },
     "execution_count": 19,
     "metadata": {},
     "output_type": "execute_result"
    }
   ],
   "source": [
    "multiply(3,2)"
   ]
  },
  {
   "cell_type": "code",
   "execution_count": 24,
   "id": "a343a0dd",
   "metadata": {},
   "outputs": [
    {
     "name": "stdout",
     "output_type": "stream",
     "text": [
      "{'hello': 1, 'i': 3, 'am': 2, 'a': 2, 'developer': 2, 'who': 1, 'are': 2, 'you': 2, 'also': 1, 'which': 1, 'programming': 1, 'language': 1, 'use': 2, 'java': 1, 'and': 1, 'python': 1, 'ohh': 1, 'both': 1, 'yes': 1}\n"
     ]
    }
   ],
   "source": [
    "## file reading and frequency\n",
    "\n",
    "def count_words_frequency(file_path):\n",
    "    word_count = {}\n",
    "    with open (file_path,'r') as file:\n",
    "        for line in file:\n",
    "            words = line.split()\n",
    "            for word in words:\n",
    "                word = word.lower().strip('.,!?;:\"\\'')\n",
    "                word_count[word]=word_count.get(word,0)+1\n",
    "    return word_count\n",
    "\n",
    "file_path = 'sample.txt'\n",
    "word_frequency=count_words_frequency(file_path)\n",
    "print(word_frequency)\n",
    "\n"
   ]
  },
  {
   "cell_type": "code",
   "execution_count": null,
   "id": "2b2c85b3",
   "metadata": {},
   "outputs": [
    {
     "name": "stdout",
     "output_type": "stream",
     "text": [
      "True\n",
      "False\n"
     ]
    }
   ],
   "source": [
    "## validate email\n",
    "\n",
    "import re    ## regular expression module  ## It allows you to work with regular expressions, which are powerful tools for pattern matching, validation, searching, and replacing strings.\n",
    "\n",
    "def is_valid_email(email):\n",
    "\n",
    "    pattern = r'^[a-zA-Z0-9_.+-]+@[a-zA-Z0-9]+.[a-zA-Z0-9-.]+$'  ## ^ start ## $ ends \n",
    "    return re.match(pattern,email) is not None   ## matching\n",
    "\n",
    "    ## calling fn.\n",
    "\n",
    "print(is_valid_email(\"test@example.com\"))\n",
    "print(is_valid_email(\"invalid-email\"))"
   ]
  },
  {
   "cell_type": "code",
   "execution_count": null,
   "id": "b447f4b2",
   "metadata": {},
   "outputs": [],
   "source": []
  }
 ],
 "metadata": {
  "kernelspec": {
   "display_name": "myenv",
   "language": "python",
   "name": "python3"
  },
  "language_info": {
   "codemirror_mode": {
    "name": "ipython",
    "version": 3
   },
   "file_extension": ".py",
   "mimetype": "text/x-python",
   "name": "python",
   "nbconvert_exporter": "python",
   "pygments_lexer": "ipython3",
   "version": "3.11.11"
  }
 },
 "nbformat": 4,
 "nbformat_minor": 5
}
