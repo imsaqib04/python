{
 "cells": [
  {
   "cell_type": "code",
   "execution_count": 3,
   "id": "ac8b3db5",
   "metadata": {},
   "outputs": [],
   "source": [
    "\n",
    "# filter \n"
   ]
  },
  {
   "cell_type": "code",
   "execution_count": 5,
   "id": "c8a93485",
   "metadata": {},
   "outputs": [],
   "source": [
    "def even(num):\n",
    "    if num%2==0:\n",
    "        return True"
   ]
  },
  {
   "cell_type": "code",
   "execution_count": 6,
   "id": "fc1fe25d",
   "metadata": {},
   "outputs": [
    {
     "data": {
      "text/plain": [
       "[2, 4, 6, 8, 10, 12]"
      ]
     },
     "execution_count": 6,
     "metadata": {},
     "output_type": "execute_result"
    }
   ],
   "source": [
    "list1 = [1,2,3,4,5,6,7,8,9,10,11,12]\n",
    "\n",
    "list(filter(even ,list1))"
   ]
  },
  {
   "cell_type": "code",
   "execution_count": 7,
   "id": "1ba7f054",
   "metadata": {},
   "outputs": [
    {
     "name": "stdout",
     "output_type": "stream",
     "text": [
      "[6, 7, 8, 9, 10]\n"
     ]
    }
   ],
   "source": [
    "# filter with lambda function\n",
    "\n",
    "numbers = [1,2,3,4,5,6,7,8,9,10]\n",
    "\n",
    "greater_than_five = list(filter(lambda x : x>5 , numbers))\n",
    "print(greater_than_five)"
   ]
  },
  {
   "cell_type": "code",
   "execution_count": 8,
   "id": "880d8b75",
   "metadata": {},
   "outputs": [
    {
     "name": "stdout",
     "output_type": "stream",
     "text": [
      "[6, 8, 10]\n"
     ]
    }
   ],
   "source": [
    "numbers = [1,2,3,4,5,6,7,8,9,10]\n",
    "\n",
    "greater_than_five_and_even = list(filter(lambda x : x>5 and x%2==0 , numbers))\n",
    "print(greater_than_five_and_even)"
   ]
  },
  {
   "cell_type": "code",
   "execution_count": null,
   "id": "76ddeb2e",
   "metadata": {},
   "outputs": [],
   "source": []
  }
 ],
 "metadata": {
  "kernelspec": {
   "display_name": "myenv",
   "language": "python",
   "name": "python3"
  },
  "language_info": {
   "codemirror_mode": {
    "name": "ipython",
    "version": 3
   },
   "file_extension": ".py",
   "mimetype": "text/x-python",
   "name": "python",
   "nbconvert_exporter": "python",
   "pygments_lexer": "ipython3",
   "version": "3.11.11"
  }
 },
 "nbformat": 4,
 "nbformat_minor": 5
}
