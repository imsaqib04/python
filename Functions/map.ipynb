{
 "cells": [
  {
   "cell_type": "code",
   "execution_count": null,
   "id": "e9ef9eb7",
   "metadata": {},
   "outputs": [],
   "source": [
    "# map"
   ]
  },
  {
   "cell_type": "code",
   "execution_count": 3,
   "id": "ef6c8f43",
   "metadata": {},
   "outputs": [],
   "source": [
    "##### abcd #####"
   ]
  },
  {
   "cell_type": "code",
   "execution_count": 5,
   "id": "aa0c3ead",
   "metadata": {},
   "outputs": [
    {
     "data": {
      "text/plain": [
       "[1, 4, 9, 16, 25, 36, 49, 64, 81]"
      ]
     },
     "execution_count": 5,
     "metadata": {},
     "output_type": "execute_result"
    }
   ],
   "source": [
    "numbers = [1,2,3,4,5,6,7,8,9]\n",
    "list(map(lambda x:x**2,numbers))"
   ]
  },
  {
   "cell_type": "code",
   "execution_count": 8,
   "id": "6e0ac24c",
   "metadata": {},
   "outputs": [
    {
     "data": {
      "text/plain": [
       "4"
      ]
     },
     "execution_count": 8,
     "metadata": {},
     "output_type": "execute_result"
    }
   ],
   "source": [
    "# numbers1=[1,2,3,4,5,6,7,8,9]\n",
    "\n",
    "def square(number):\n",
    "    return number**2\n",
    "\n",
    "square(2)"
   ]
  },
  {
   "cell_type": "code",
   "execution_count": null,
   "id": "21a42b25",
   "metadata": {},
   "outputs": [
    {
     "name": "stdout",
     "output_type": "stream",
     "text": [
      "<map object at 0x00000281D6972AD0>\n"
     ]
    }
   ],
   "source": [
    "number0 = [1,2,3]\n",
    "number11 = [5,6,7]\n",
    "# added_numbers = map(lambda x,y:x+y,number0,number11)           # give map object at 0x00000281D6972AD0>\n",
    "added_numbers = list(map(lambda x,y:x+y,number0,number11))\n",
    "\n",
    "print(added_numbers) "
   ]
  },
  {
   "cell_type": "code",
   "execution_count": 23,
   "id": "84cd96ff",
   "metadata": {},
   "outputs": [
    {
     "name": "stdout",
     "output_type": "stream",
     "text": [
      "[1, 2, 3, 4, 5]\n",
      "<class 'list'>\n"
     ]
    }
   ],
   "source": [
    "# change string to integer using map()\n",
    "\n",
    "str_numbers = [\"1\",\"2\",\"3\",\"4\",\"5\"]\n",
    "\n",
    "int_numbers = list(map(int,str_numbers))\n",
    "print(int_numbers)\n",
    "print(type(int_numbers))"
   ]
  },
  {
   "cell_type": "code",
   "execution_count": 26,
   "id": "fa325cda",
   "metadata": {},
   "outputs": [
    {
     "name": "stdout",
     "output_type": "stream",
     "text": [
      "['saqib', 'kashif']\n"
     ]
    }
   ],
   "source": [
    "def get_name(person):\n",
    "    return person[\"name\"]\n",
    "\n",
    "People =[\n",
    "    { \"name\":\"saqib\",\"age\":21},\n",
    "    { \"name\":\"kashif\",\"age\":33}\n",
    "        ]\n",
    "\n",
    "print(list(map(get_name,People)))\n"
   ]
  },
  {
   "cell_type": "code",
   "execution_count": null,
   "id": "bd9e779b",
   "metadata": {},
   "outputs": [],
   "source": [
    "        "
   ]
  }
 ],
 "metadata": {
  "kernelspec": {
   "display_name": "myenv",
   "language": "python",
   "name": "python3"
  },
  "language_info": {
   "codemirror_mode": {
    "name": "ipython",
    "version": 3
   },
   "file_extension": ".py",
   "mimetype": "text/x-python",
   "name": "python",
   "nbconvert_exporter": "python",
   "pygments_lexer": "ipython3",
   "version": "3.11.11"
  }
 },
 "nbformat": 4,
 "nbformat_minor": 5
}
