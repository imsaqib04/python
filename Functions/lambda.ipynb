{
 "cells": [
  {
   "cell_type": "code",
   "execution_count": 9,
   "id": "08437906",
   "metadata": {},
   "outputs": [
    {
     "name": "stdout",
     "output_type": "stream",
     "text": [
      "<class 'function'>\n"
     ]
    }
   ],
   "source": [
    "Addition1 = lambda a, b: a + b\n",
    "print(type(Addition1))"
   ]
  },
  {
   "cell_type": "code",
   "execution_count": 11,
   "id": "b8da0b0f",
   "metadata": {},
   "outputs": [
    {
     "name": "stdout",
     "output_type": "stream",
     "text": [
      "3\n"
     ]
    }
   ],
   "source": [
    "def Addition2 (a,b):\n",
    "    return a+b\n",
    "\n",
    "print(Addition2(1,2))"
   ]
  },
  {
   "cell_type": "code",
   "execution_count": 15,
   "id": "5c8340f5",
   "metadata": {},
   "outputs": [
    {
     "name": "stdout",
     "output_type": "stream",
     "text": [
      "False\n"
     ]
    },
    {
     "data": {
      "text/plain": [
       "True"
      ]
     },
     "execution_count": 15,
     "metadata": {},
     "output_type": "execute_result"
    }
   ],
   "source": [
    "even = lambda num : num % 2==0\n",
    "print(even(11))\n",
    "even(12)"
   ]
  },
  {
   "cell_type": "code",
   "execution_count": 24,
   "id": "04d65cef",
   "metadata": {},
   "outputs": [
    {
     "name": "stdout",
     "output_type": "stream",
     "text": [
      "True\n"
     ]
    }
   ],
   "source": [
    "def even1(num):\n",
    "    if num%2==0:\n",
    "        return True\n",
    "\n",
    "print(even1(12))"
   ]
  },
  {
   "cell_type": "code",
   "execution_count": null,
   "id": "e3cb3b80",
   "metadata": {},
   "outputs": [],
   "source": []
  }
 ],
 "metadata": {
  "kernelspec": {
   "display_name": "myenv",
   "language": "python",
   "name": "python3"
  },
  "language_info": {
   "codemirror_mode": {
    "name": "ipython",
    "version": 3
   },
   "file_extension": ".py",
   "mimetype": "text/x-python",
   "name": "python",
   "nbconvert_exporter": "python",
   "pygments_lexer": "ipython3",
   "version": "3.11.11"
  }
 },
 "nbformat": 4,
 "nbformat_minor": 5
}
