{
 "cells": [
  {
   "cell_type": "code",
   "execution_count": 1,
   "id": "35ea7a26",
   "metadata": {},
   "outputs": [],
   "source": [
    "def convert_temperature(temp,unit):\n",
    "    \"\"\" this function converts temprature between celsius and fahrenheit\"\"\"\n",
    "    if unit == 'C':\n",
    "        return temp * 9/5 + 32    ## celcius to fahrenheit\n",
    "    elif unit == 'F':\n",
    "        return (temp-32) *5/9\n",
    "    else:\n",
    "        return None"
   ]
  },
  {
   "cell_type": "code",
   "execution_count": 3,
   "id": "580598ef",
   "metadata": {},
   "outputs": [
    {
     "name": "stdout",
     "output_type": "stream",
     "text": [
      "77.0\n",
      "25.0\n"
     ]
    }
   ],
   "source": [
    "print(convert_temperature(25,'C'))\n",
    "print(convert_temperature(77,'F'))"
   ]
  },
  {
   "cell_type": "code",
   "execution_count": 11,
   "id": "83a4275a",
   "metadata": {},
   "outputs": [],
   "source": [
    "# password Strength checker\n",
    "\n",
    "def is_Strong_password(password):\n",
    "    if len(password)<8:\n",
    "        return False\n",
    "    if not any (char.isdigit() for char in password):\n",
    "        return False\n",
    "    if not any (char.islower() for char in password):\n",
    "        return False\n",
    "    if not any (char.isupper() for char in password):\n",
    "        return False\n",
    "    if not any (char in '!@#$%^&*()_+' for char in password):\n",
    "        return False\n",
    "    return True"
   ]
  },
  {
   "cell_type": "code",
   "execution_count": 13,
   "id": "373abe4c",
   "metadata": {},
   "outputs": [
    {
     "data": {
      "text/plain": [
       "True"
      ]
     },
     "execution_count": 13,
     "metadata": {},
     "output_type": "execute_result"
    }
   ],
   "source": [
    "is_Strong_password('Saqib1234')\n",
    "is_Strong_password('Saqib@1234')"
   ]
  },
  {
   "cell_type": "code",
   "execution_count": 22,
   "id": "e1ae33b7",
   "metadata": {},
   "outputs": [],
   "source": [
    "def calculate_total_cost(cart):\n",
    "    \n",
    "    total_cost =0\n",
    "\n",
    "    for item in cart:\n",
    "        total_cost = total_cost+item['price']*item['quantity']\n",
    "\n",
    "    return total_cost\n",
    "\n",
    "\n",
    "cart = [\n",
    "    {'name':'apple','price':0.5,'quantity':4},\n",
    "    {'name':'banana','price':0.7,'quantity':3},\n",
    "    {'name':'watermelon','price':1.0,'quantity':5}\n",
    "]\n",
    "\n",
    "## calling fn.\n",
    "\n",
    "# total_cost=calculate_total_cost(cart)\n",
    "# print (total_cost)"
   ]
  },
  {
   "cell_type": "code",
   "execution_count": 24,
   "id": "0b1ef557",
   "metadata": {},
   "outputs": [
    {
     "name": "stdout",
     "output_type": "stream",
     "text": [
      "9.1\n"
     ]
    }
   ],
   "source": [
    "cost=calculate_total_cost(cart)\n",
    "print (cost)"
   ]
  },
  {
   "cell_type": "code",
   "execution_count": 28,
   "id": "e7c5e40d",
   "metadata": {},
   "outputs": [
    {
     "name": "stdout",
     "output_type": "stream",
     "text": [
      "True\n",
      "False\n"
     ]
    }
   ],
   "source": [
    "# check if is palindrom or not?\n",
    "\n",
    "def is_palindrom(s):\n",
    "    s=s.lower().replace(\" \",\"\")\n",
    "    return s==s[::-1]\n",
    "\n",
    "print(is_palindrom(\"A man a plan a canal panama\"))\n",
    "print(is_palindrom(\"Hello\"))"
   ]
  },
  {
   "cell_type": "code",
   "execution_count": 31,
   "id": "c516a8bb",
   "metadata": {},
   "outputs": [
    {
     "name": "stdout",
     "output_type": "stream",
     "text": [
      "120\n"
     ]
    }
   ],
   "source": [
    "# factorial using recursion\n",
    "\n",
    "def factorial(n):\n",
    "    if n==0:\n",
    "        return 1\n",
    "\n",
    "    else:\n",
    "        return n*factorial(n-1)\n",
    "    \n",
    "print(factorial(5))"
   ]
  },
  {
   "cell_type": "code",
   "execution_count": null,
   "id": "b8db5323",
   "metadata": {},
   "outputs": [],
   "source": []
  },
  {
   "cell_type": "code",
   "execution_count": null,
   "id": "9bfc8047",
   "metadata": {},
   "outputs": [],
   "source": []
  }
 ],
 "metadata": {
  "kernelspec": {
   "display_name": "myenv",
   "language": "python",
   "name": "python3"
  },
  "language_info": {
   "codemirror_mode": {
    "name": "ipython",
    "version": 3
   },
   "file_extension": ".py",
   "mimetype": "text/x-python",
   "name": "python",
   "nbconvert_exporter": "python",
   "pygments_lexer": "ipython3",
   "version": "3.11.11"
  }
 },
 "nbformat": 4,
 "nbformat_minor": 5
}
