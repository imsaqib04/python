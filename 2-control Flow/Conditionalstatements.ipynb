{
 "cells": [
  {
   "cell_type": "code",
   "execution_count": 2,
   "id": "6a7e7393",
   "metadata": {},
   "outputs": [
    {
     "name": "stdout",
     "output_type": "stream",
     "text": [
      "you are an adult\n"
     ]
    }
   ],
   "source": [
    "age=20\n",
    "\n",
    "if age >= 18:\n",
    "    print (\"you are an adult\")\n",
    "else:\n",
    "    print(\"you are a minor\")\n"
   ]
  },
  {
   "cell_type": "code",
   "execution_count": 7,
   "id": "dc04a088",
   "metadata": {},
   "outputs": [
    {
     "name": "stdout",
     "output_type": "stream",
     "text": [
      "you are an adult\n"
     ]
    }
   ],
   "source": [
    "age = 20\n",
    "\n",
    "if age < 13:\n",
    "    print(\"you are a child\")\n",
    "elif age > 18:\n",
    "    print(\"you are an adult\")\n",
    "else:\n",
    "    print(\"you are a teenager\")"
   ]
  },
  {
   "cell_type": "code",
   "execution_count": 2,
   "id": "6354b152",
   "metadata": {},
   "outputs": [
    {
     "name": "stdout",
     "output_type": "stream",
     "text": [
      "number is negative\n"
     ]
    }
   ],
   "source": [
    "#Even odd\n",
    "\n",
    "num = int(input(\"enter a nnumber\"))\n",
    "if num > 0:\n",
    "    print(\"number is positive\")\n",
    "    if num%2 ==0:\n",
    "        print(\"number is even\")\n",
    "    else:\n",
    "        print(\"number is odd\") \n",
    "else:\n",
    "    print(\"number is negative\")\n"
   ]
  },
  {
   "cell_type": "code",
   "execution_count": null,
   "id": "c5a9eaf0",
   "metadata": {},
   "outputs": [],
   "source": []
  }
 ],
 "metadata": {
  "kernelspec": {
   "display_name": "myenv",
   "language": "python",
   "name": "python3"
  },
  "language_info": {
   "codemirror_mode": {
    "name": "ipython",
    "version": 3
   },
   "file_extension": ".py",
   "mimetype": "text/x-python",
   "name": "python",
   "nbconvert_exporter": "python",
   "pygments_lexer": "ipython3",
   "version": "3.11.11"
  }
 },
 "nbformat": 4,
 "nbformat_minor": 5
}
